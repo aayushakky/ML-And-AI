{
 "cells": [
  {
   "cell_type": "code",
   "execution_count": 1,
   "id": "a673b90d-2527-46da-a975-1c504452cac8",
   "metadata": {},
   "outputs": [
    {
     "name": "stderr",
     "output_type": "stream",
     "text": [
      "WARNING: Retrying (Retry(total=4, connect=None, read=None, redirect=None, status=None)) after connection broken by 'NewConnectionError('<pip._vendor.urllib3.connection.HTTPSConnection object at 0x0000021707648880>: Failed to establish a new connection: [Errno 11001] getaddrinfo failed')': /simple/cmake/\n",
      "WARNING: Retrying (Retry(total=3, connect=None, read=None, redirect=None, status=None)) after connection broken by 'NewConnectionError('<pip._vendor.urllib3.connection.HTTPSConnection object at 0x0000021707648700>: Failed to establish a new connection: [Errno 11001] getaddrinfo failed')': /simple/cmake/\n",
      "WARNING: Retrying (Retry(total=2, connect=None, read=None, redirect=None, status=None)) after connection broken by 'NewConnectionError('<pip._vendor.urllib3.connection.HTTPSConnection object at 0x0000021707648580>: Failed to establish a new connection: [Errno 11001] getaddrinfo failed')': /simple/cmake/\n",
      "WARNING: Retrying (Retry(total=1, connect=None, read=None, redirect=None, status=None)) after connection broken by 'NewConnectionError('<pip._vendor.urllib3.connection.HTTPSConnection object at 0x0000021707648400>: Failed to establish a new connection: [Errno 11001] getaddrinfo failed')': /simple/cmake/\n",
      "WARNING: Retrying (Retry(total=0, connect=None, read=None, redirect=None, status=None)) after connection broken by 'NewConnectionError('<pip._vendor.urllib3.connection.HTTPSConnection object at 0x00000217076482E0>: Failed to establish a new connection: [Errno 11001] getaddrinfo failed')': /simple/cmake/\n",
      "ERROR: Could not find a version that satisfies the requirement cmake (from versions: none)\n",
      "ERROR: No matching distribution found for cmake\n"
     ]
    }
   ],
   "source": [
    "!pip install cmake"
   ]
  },
  {
   "cell_type": "code",
   "execution_count": null,
   "id": "6151811c-5570-44d4-bc44-76b68306c956",
   "metadata": {},
   "outputs": [],
   "source": []
  }
 ],
 "metadata": {
  "kernelspec": {
   "display_name": "Python 3",
   "language": "python",
   "name": "python3"
  },
  "language_info": {
   "codemirror_mode": {
    "name": "ipython",
    "version": 3
   },
   "file_extension": ".py",
   "mimetype": "text/x-python",
   "name": "python",
   "nbconvert_exporter": "python",
   "pygments_lexer": "ipython3",
   "version": "3.8.6"
  }
 },
 "nbformat": 4,
 "nbformat_minor": 5
}
